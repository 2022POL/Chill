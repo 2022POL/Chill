{
 "cells": [
  {
   "cell_type": "code",
   "execution_count": 3,
   "id": "edbfe909",
   "metadata": {},
   "outputs": [
    {
     "ename": "ModuleNotFoundError",
     "evalue": "No module named 'pyautogui'",
     "output_type": "error",
     "traceback": [
      "\u001b[0;31m---------------------------------------------------------------------------\u001b[0m",
      "\u001b[0;31mModuleNotFoundError\u001b[0m                       Traceback (most recent call last)",
      "Input \u001b[0;32mIn [3]\u001b[0m, in \u001b[0;36m<cell line: 4>\u001b[0;34m()\u001b[0m\n\u001b[1;32m      2\u001b[0m \u001b[38;5;28;01mimport\u001b[39;00m \u001b[38;5;21;01mcv2\u001b[39;00m\n\u001b[1;32m      3\u001b[0m \u001b[38;5;28;01mfrom\u001b[39;00m \u001b[38;5;21;01mPIL\u001b[39;00m \u001b[38;5;28;01mimport\u001b[39;00m ImageGrab\n\u001b[0;32m----> 4\u001b[0m \u001b[38;5;28;01mimport\u001b[39;00m \u001b[38;5;21;01mpyautogui\u001b[39;00m \u001b[38;5;28;01mas\u001b[39;00m \u001b[38;5;21;01mpag\u001b[39;00m\n\u001b[1;32m      6\u001b[0m \u001b[38;5;66;03m# 현재 마우스 좌표의 색 추출 -> 클릭시 마우스 좌표로 바꿔야함\u001b[39;00m\n\u001b[1;32m      7\u001b[0m \u001b[38;5;28;01mdef\u001b[39;00m \u001b[38;5;21mcolor_def\u001b[39m():\n\u001b[1;32m      8\u001b[0m   \u001b[38;5;66;03m#screen-shot\u001b[39;00m\n",
      "\u001b[0;31mModuleNotFoundError\u001b[0m: No module named 'pyautogui'"
     ]
    }
   ],
   "source": [
    "import numpy as np\n",
    "import cv2\n",
    "from PIL import ImageGrab\n",
    "import pyautogui as pag\n",
    "\n",
    "# 현재 마우스 좌표의 색 추출 -> 클릭시 마우스 좌표로 바꿔야함\n",
    "def color_def():\n",
    "  #screen-shot\n",
    "  screen = ImageGrab.grab()\n",
    "\n",
    "  #get current position and rgb\n",
    "  pos = pag.position()\n",
    "  rgb = screen.getpixel(pos)\n",
    "\n",
    "  return rgb\n",
    "\n",
    "# 마우스 이벤트 처리 함수\n",
    "def onMouse(event, x, y, flags, param):\n",
    "    global mask, img\n",
    "    if event == cv2.EVENT_LBUTTONDOWN:\n",
    "        seed = (x,y)\n",
    "        # 색 채우기 적용 ---④\n",
    "        retval = cv2.floodFill(img, mask, seed, newVal, loDiff, upDiff)\n",
    "        # 채우기 변경 결과 표시 ---⑤\n",
    "        cv2.imshow('img', img)\n",
    "\n",
    "\n",
    "\n",
    "img = cv2.imread('images/niniz.png')\n",
    "\n",
    "rows, cols = img.shape[:2]\n",
    "# 마스크 생성, 원래 이미지 보다 2픽셀 크게 ---①\n",
    "mask = np.zeros((rows+2, cols+2), np.uint8)\n",
    "# 채우기에 사용할 색 ---②\n",
    "screen = ImageGrab.grab()\n",
    "newVal = color_def()\n",
    "print(color_def())\n",
    "# 최소 최대 차이 값 ---③\n",
    "loDiff, upDiff = (10,10,10), (10,10,10)\n",
    "\n",
    "# 화면 출력\n",
    "cv2.imshow('img', img)\n",
    "cv2.setMouseCallback('img', onMouse)\n",
    "cv2.waitKey(0)\n",
    "cv2.destroyAllWindows()"
   ]
  },
  {
   "cell_type": "code",
   "execution_count": null,
   "id": "ed50f793",
   "metadata": {},
   "outputs": [],
   "source": []
  }
 ],
 "metadata": {
  "kernelspec": {
   "display_name": "Python 3 (ipykernel)",
   "language": "python",
   "name": "python3"
  },
  "language_info": {
   "codemirror_mode": {
    "name": "ipython",
    "version": 3
   },
   "file_extension": ".py",
   "mimetype": "text/x-python",
   "name": "python",
   "nbconvert_exporter": "python",
   "pygments_lexer": "ipython3",
   "version": "3.9.4"
  }
 },
 "nbformat": 4,
 "nbformat_minor": 5
}
